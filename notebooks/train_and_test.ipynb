{
 "cells": [
  {
   "cell_type": "markdown",
   "metadata": {
    "colab_type": "text",
    "id": "view-in-github"
   },
   "source": [
    "<a href=\"https://colab.research.google.com/github/nparslow/disfluency_gen/blob/develop/docs/tutorials/nmt_with_attention.ipynb\" target=\"_parent\"><img src=\"https://colab.research.google.com/assets/colab-badge.svg\" alt=\"Open In Colab\"/></a>"
   ]
  },
  {
   "cell_type": "code",
   "execution_count": 1,
   "metadata": {
    "id": "tnxXKDjq3jEL",
    "scrolled": false
   },
   "outputs": [],
   "source": [
    "\n",
    "# refactored from:\n",
    "#https://colab.research.google.com/github/tensorflow/text/blob/master/docs/tutorials/nmt_with_attention.ipynb\n",
    "\n",
    "import os\n",
    "import sys\n",
    "repoRoot = os.path.abspath(os.path.join(os.getcwd(), '..'))\n",
    "sys.path.append(os.path.join(repoRoot, \"src\", \"disfluency_generator\"))\n",
    "\n",
    "import tensorflow as tf\n",
    "from machine_translator import load_data, create_dataset, print_examples, tf_lower_and_split_punct,\\\n",
    "    create_text_processor\n",
    "from encoder import Encoder\n",
    "from decoder import Decoder\n",
    "from trainTranslator import TrainTranslator, BatchLogs\n",
    "from maskedLoss import MaskedLoss\n",
    "\n",
    "from translator import Translator\n",
    "from trainTranslator import TrainTranslator\n",
    "\n",
    "import pathlib\n",
    "\n",
    "from letsread_prepare_translations import LetsReadDataPrep\n",
    "from portuguese_phoneme_to_grapheme import PhonemeToGrapheme\n"
   ]
  },
  {
   "cell_type": "code",
   "execution_count": 2,
   "metadata": {
    "colab": {
     "base_uri": "https://localhost:8080/"
    },
    "id": "kRVATYOgJs1b",
    "outputId": "0d4f0d79-6557-4c52-cb30-19c63d031a35",
    "scrolled": false
   },
   "outputs": [
    {
     "name": "stdout",
     "output_type": "stream",
     "text": [
      "Cannot parse t6j~ at ~\n",
      "Cannot parse lun6w at w\n",
      "Cannot parse fi...ka...@ju at ju\n",
      "Cannot parse kumunica at ca\n",
      "Cannot parse gOc6~w~ at c6~w~\n",
      "Cannot parse tevulz6w~ at w~\n",
      "Cannot parse sÂj~ at Âj~\n",
      "Cannot parse k6ir6w~ at w~\n",
      "Cannot parse mej at j\n",
      "Last example of data:\n",
      "flole mocla ambife dantrar mever\n",
      "flole mocla ambife dantrar e mever\n",
      "tf.Tensor(\n",
      "[b'Os seus ombros estavam cobertos por um manto verde e o seu vestido era da cor da chama viva.'\n",
      " b'O Sol \\xc3\\xa9 uma enorme bola de g\\xc3\\xa1s quente, que se formou a partir de uma nuvem de g\\xc3\\xa1s e de p\\xc3\\xb3 que flutuava no espa\\xc3\\xa7o.'\n",
      " b'Quando eu era nova tinha namorados que me diziam que eu era linda e me atiravam cravos quando eu passava.'\n",
      " b'Falaram de vento, chuva, frio, enfim, s\\xc3\\xb3 de coisas desagrad\\xc3\\xa1veis.'\n",
      " b'A Ester apaga as sete velas.'], shape=(5,), dtype=string)\n",
      "\n",
      "tf.Tensor(\n",
      "[b'os seus ombros estavam cobertos por um manto verde e o seu vestido era de core da chama viva'\n",
      " b'o sol \\xc3\\xa9 uma enorme bola de g\\xc3\\xa1s quente que se forme formou a partir de uma nuvem de g\\xc3\\xa1s de e de p\\xc3\\xb3 que flutua no espa\\xc3\\xa7o'\n",
      " b'quando eu era nova tinha namorados que me diziam que eu era linda e me e me atirava cravos quando eu passava'\n",
      " b'falaram de vento chuva frio enfim s\\xc3\\xb3 de coisas dezagravdaveis'\n",
      " b'ae istera apaga a as sete velas'], shape=(5,), dtype=string)\n",
      "First 10 words of input vocab:\n",
      "['', '[UNK]', '[START]', '[END]', '.', ',', 'a', 'e', 'o', 'de']\n",
      "First 10 words of target vocab:\n",
      "['', '[UNK]', '[START]', '[END]', 'a', 'e', 'o', 'de', 'que', 'um']\n",
      "Example input token sequences (indices):\n",
      "tf.Tensor(\n",
      "[[   2   43   22   12 1283   10  222    9  539  101]\n",
      " [   2   76   34    5   76   34   23  932    8  127]\n",
      " [   2  556  897  103  220   10   20   41  837    4]], shape=(3, 10), dtype=int64)\n"
     ]
    }
   ],
   "source": [
    "# load data\n",
    "data_path = pathlib.Path(repoRoot, \"data\")\n",
    "verbose = 1\n",
    "#------------------\n",
    "letsread_corpus_path = os.path.join(data_path, \"LetsReadDB\")\n",
    "\n",
    "p2g = PhonemeToGrapheme(os.path.join(repoRoot, \"resources\", \"sampa.tsv\"))\n",
    "inputs, targets = LetsReadDataPrep(letsread_corpus_path, p2g).prep_letsread()\n",
    "\n",
    "if verbose > 0:\n",
    "    print(f\"Last example of data:\\n{inputs[-1]}\\n{targets[-1]}\")\n",
    "\n",
    "# we'll leave off the first 20 as a test set (todo improve)\n",
    "dataset = create_dataset(inputs[20:], targets[20:], BATCH_SIZE=64)\n",
    "\n",
    "if verbose > 0:\n",
    "    print(\"Printing Examples (before normalisation):\")\n",
    "    print_examples(dataset)\n",
    "\n",
    "# todo - check with corpus:\n",
    "max_vocab_size = 5000\n",
    "\n",
    "input_text_processor = create_text_processor(inputs, max_vocab_size)\n",
    "\n",
    "if verbose > 0:\n",
    "    # todo better checking:\n",
    "    print(\"First 10 words of input vocab:\")\n",
    "    print(input_text_processor.get_vocabulary()[:10])\n",
    "\n",
    "# note - we don't have to have the same output vocab size:\n",
    "output_text_processor = create_text_processor(targets, max_vocab_size)\n",
    "\n",
    "if verbose > 0:\n",
    "    print(\"First 10 words of target vocab:\")\n",
    "    print(output_text_processor.get_vocabulary()[:10])\n",
    "\n",
    "if verbose > 0:\n",
    "    for example_input_batch, example_target_batch in dataset.take(1):\n",
    "        print(\"Example input token sequences (indices):\")\n",
    "        example_tokens = input_text_processor(example_input_batch)\n",
    "        print(example_tokens[:3, :10])\n"
   ]
  },
  {
   "cell_type": "markdown",
   "metadata": {
    "id": "gzQWx2saImMV"
   },
   "source": [
    "Before getting into it define a few constants for the model:"
   ]
  },
  {
   "cell_type": "code",
   "execution_count": 3,
   "metadata": {
    "id": "_a9uNz3-IrF-"
   },
   "outputs": [],
   "source": [
    "embedding_dim = 256\n",
    "units = 1024"
   ]
  },
  {
   "cell_type": "markdown",
   "metadata": {
    "id": "aI02XFjoEt1k"
   },
   "source": [
    "Now that you're confident that the training step is working, build a fresh copy of the model to train from scratch:"
   ]
  },
  {
   "cell_type": "markdown",
   "metadata": {
    "id": "hpObfY22IddU"
   },
   "source": [
    "### Train the model\n",
    "\n",
    "While there's nothing wrong with writing your own custom training loop, implementing the `Model.train_step` method, as in the previous section, allows you to run `Model.fit` and avoid rewriting all that boiler-plate code. \n",
    "\n",
    "This tutorial only trains for a couple of epochs, so use a `callbacks.Callback` to collect the history of batch losses, for plotting:"
   ]
  },
  {
   "cell_type": "code",
   "execution_count": 4,
   "metadata": {
    "id": "J7m4mtnj80sq"
   },
   "outputs": [],
   "source": [
    "\n",
    "batch_loss = BatchLogs('batch_loss')"
   ]
  },
  {
   "cell_type": "code",
   "execution_count": 5,
   "metadata": {},
   "outputs": [],
   "source": [
    "\n",
    "train_translator = TrainTranslator(\n",
    "    embedding_dim, units,\n",
    "    input_text_processor=input_text_processor,\n",
    "    output_text_processor=output_text_processor)\n",
    "\n",
    "# Configure the loss and optimizer\n",
    "train_translator.compile(\n",
    "    optimizer=tf.optimizers.Adam(),\n",
    "    loss=MaskedLoss(),\n",
    ")\n"
   ]
  },
  {
   "cell_type": "code",
   "execution_count": 7,
   "metadata": {
    "colab": {
     "base_uri": "https://localhost:8080/"
    },
    "id": "BQd_esVVoSf3",
    "outputId": "2536bbf4-078b-4f12-b0ac-c3d59ef81dfc",
    "scrolled": true
   },
   "outputs": [
    {
     "name": "stdout",
     "output_type": "stream",
     "text": [
      "Epoch 1/3\n",
      "36/36 [==============================] - 92s 3s/step - batch_loss: 6.5415\n",
      "Epoch 2/3\n",
      "36/36 [==============================] - 96s 3s/step - batch_loss: 5.7733\n",
      "Epoch 3/3\n",
      "36/36 [==============================] - 103s 3s/step - batch_loss: 5.2683\n"
     ]
    },
    {
     "data": {
      "text/plain": [
       "<tensorflow.python.keras.callbacks.History at 0x7f3ae56bf130>"
      ]
     },
     "execution_count": 7,
     "metadata": {},
     "output_type": "execute_result"
    }
   ],
   "source": [
    "train_translator.fit(dataset, epochs=3,\n",
    "                     callbacks=[batch_loss])"
   ]
  },
  {
   "cell_type": "code",
   "execution_count": 8,
   "metadata": {
    "colab": {
     "base_uri": "https://localhost:8080/",
     "height": 300
    },
    "id": "38rLdlmtQHCm",
    "outputId": "efbeff93-c194-42ce-e124-36a36f88c350"
   },
   "outputs": [
    {
     "data": {
      "text/plain": [
       "Text(0, 0.5, 'CE/token')"
      ]
     },
     "execution_count": 8,
     "metadata": {},
     "output_type": "execute_result"
    },
    {
     "data": {
      "image/png": "[encoded data removed]",
      "text/plain": [
       "<Figure size 432x288 with 1 Axes>"
      ]
     },
     "metadata": {
      "needs_background": "light"
     },
     "output_type": "display_data"
    }
   ],
   "source": [
    "import matplotlib.pyplot as plt\n",
    "plt.plot(batch_loss.logs)\n",
    "plt.ylim([0, 3])\n",
    "plt.xlabel('Batch #')\n",
    "plt.ylabel('CE/token')"
   ]
  },
  {
   "cell_type": "code",
   "execution_count": 9,
   "metadata": {
    "id": "iBQzFZ9uWU79"
   },
   "outputs": [],
   "source": [
    "translator = Translator(\n",
    "    encoder=train_translator.encoder,\n",
    "    decoder=train_translator.decoder,\n",
    "    input_text_processor=input_text_processor,\n",
    "    output_text_processor=output_text_processor,\n",
    ")"
   ]
  },
  {
   "cell_type": "code",
   "execution_count": 12,
   "metadata": {
    "colab": {
     "base_uri": "https://localhost:8080/"
    },
    "id": "OyvxT5V0_X5B",
    "outputId": "039a2eea-9600-4df8-f83f-f89cba5f2f3b"
   },
   "outputs": [
    {
     "name": "stderr",
     "output_type": "stream",
     "text": [
      "WARNING:absl:Found untraced functions such as encoder_layer_call_and_return_conditional_losses, encoder_layer_call_fn, decoder_layer_call_and_return_conditional_losses, decoder_layer_call_fn, embedding_layer_call_and_return_conditional_losses while saving (showing 5 of 60). These functions will not be directly callable after loading.\n"
     ]
    },
    {
     "name": "stdout",
     "output_type": "stream",
     "text": [
      "WARNING:tensorflow:FOR KERAS USERS: The object that you are saving contains one or more Keras models or layers. If you are loading the SavedModel with `tf.keras.models.load_model`, continue reading (otherwise, you may ignore the following instructions). Please change your code to save with `tf.keras.models.save_model` or `model.save`, and confirm that the file \"keras.metadata\" exists in the export directory. In the future, Keras will only load the SavedModels that have this file. In other words, `tf.saved_model.save` will no longer write SavedModels that can be recovered as Keras models (this will apply in TF 2.5).\n",
      "\n",
      "FOR DEVS: If you are overwriting _tracking_metadata in your class, this property has been used to save metadata in the SavedModel. The metadta field will be deprecated soon, so please move the metadata to a different file.\n"
     ]
    },
    {
     "name": "stderr",
     "output_type": "stream",
     "text": [
      "WARNING:tensorflow:FOR KERAS USERS: The object that you are saving contains one or more Keras models or layers. If you are loading the SavedModel with `tf.keras.models.load_model`, continue reading (otherwise, you may ignore the following instructions). Please change your code to save with `tf.keras.models.save_model` or `model.save`, and confirm that the file \"keras.metadata\" exists in the export directory. In the future, Keras will only load the SavedModels that have this file. In other words, `tf.saved_model.save` will no longer write SavedModels that can be recovered as Keras models (this will apply in TF 2.5).\n",
      "\n",
      "FOR DEVS: If you are overwriting _tracking_metadata in your class, this property has been used to save metadata in the SavedModel. The metadta field will be deprecated soon, so please move the metadata to a different file.\n"
     ]
    },
    {
     "name": "stdout",
     "output_type": "stream",
     "text": [
      "INFO:tensorflow:Assets written to: portugues_trial_1/assets\n"
     ]
    },
    {
     "name": "stderr",
     "output_type": "stream",
     "text": [
      "INFO:tensorflow:Assets written to: portugues_trial_1/assets\n"
     ]
    }
   ],
   "source": [
    "model_name = 'portugues_trial_1'\n",
    "tf.saved_model.save(translator, model_name,\n",
    "                    signatures={'serving_default': translator.tf_translate})"
   ]
  },
  {
   "cell_type": "code",
   "execution_count": 13,
   "metadata": {
    "id": "-I0j3i3ekOba"
   },
   "outputs": [],
   "source": [
    "#model_name = \n",
    "reloaded = tf.saved_model.load(model_name)\n"
   ]
  },
  {
   "cell_type": "code",
   "execution_count": 19,
   "metadata": {
    "colab": {
     "base_uri": "https://localhost:8080/"
    },
    "id": "GXZF__FZXJCm",
    "outputId": "380eaf26-17ba-4dcd-8261-ed6e5da6e3ff"
   },
   "outputs": [
    {
     "name": "stdout",
     "output_type": "stream",
     "text": [
      "O carro do meu tio é azul.\n",
      "ela para o mustra o branco havia\n",
      "------------\n",
      "Era uma vez um elefante muito pequenino e muito enfezado.\n",
      "os burro uma fila caim todo uma encostada apareceu o teve ja palacio que o ce mas uma cravalos saboroso\n",
      "------------\n",
      "Desta vez contou com uma voz mais alegre e um aperto no coração.\n",
      "um fiz e de seguinte que primeira culera\n",
      "------------\n",
      "Ontem a Joaninha fez um lindo desenho.\n",
      "quero parece ana gostava poeirinha\n",
      "------------\n",
      "O vento amainou.\n",
      "o belo gelo cimco ausencia\n",
      "------------\n",
      "Era uma bela casa.\n",
      "uma esperteza ja e o cedo que os padrinhos as vezinho e os osso\n",
      "------------\n",
      "Parecia que toda a sabedoria da terra estava reunida naquela sala.\n",
      "a mara essa falanos\n",
      "------------\n",
      "Os Maias vieram habitar uma casa em Lisboa no Outono de mil oitocentos e setenta e cinco.\n",
      "jame peiza a caule havia de tecnologia\n",
      "------------\n",
      "Quem quer casar com a Carochinha, que é formosa e bonitinha?\n",
      "que aquela degelo aprezemtoce reservara\n",
      "------------\n",
      "Parecia que as ondas iam cercar a casa e que o mar ia devorar o mundo.\n",
      "vaidosa dava ro rato ativada a ca um sobre na ruiva pedro e o ninguem que era de arve\n",
      "------------\n",
      "A notícia desta viagem causou grande espanto.\n",
      "o fora eu mocho muito belo copa\n",
      "------------\n",
      "A Zélia jogou e meteu um belo golo na baliza.\n",
      "diz no mae lagartos do pa pareca\n",
      "------------\n",
      "A mãe do Flávio era florista.\n",
      "o rapaz foi estava falare de cobrecaltado popo\n",
      "------------\n",
      "Vendia lindos gladíolos e glicínias.\n",
      "busos alexandre fi feitas culanhei havia para abriu principe semanas\n",
      "------------\n",
      "A Catarina e a Mira estão distraídas.\n",
      "atiraram entrar uma ruido foi uma chocar e correr\n",
      "------------\n",
      "Quero eu, quero eu! Sou muito comilão, mas também dizem que sou bonacheirão.\n",
      "a cusceio agua da ramalete com animais coise em rouba e desenho\n",
      "------------\n",
      "És muito simpático e pareces ser divertido.\n",
      "comecou eu delmeus caltapucinhas gelado\n",
      "------------\n",
      "Mas com essa voz, acordavas-me a mim e aos meninos de noite!\n",
      "mas caranguejos contava a a bruxa festa\n",
      "------------\n",
      "Quase enraivecida, a cegonha largou a falar como uma matraca.\n",
      "a vale bocam boca a arcitectura\n",
      "------------\n",
      "Ficaram a conversar na varanda.\n",
      "a galo batalha a neta o ireivecida com com cafe a nascenca a galinha\n",
      "------------\n",
      "\n"
     ]
    }
   ],
   "source": [
    "# testing\n",
    "#three_input_text = tf.constant([\n",
    "#    # This is my life.\n",
    "#    'Esta es mi vida.',\n",
    "#    # Are they still home?\n",
    "#    '¿Todavía están en casa?',\n",
    "#    # Try to find out.'\n",
    "#    'Tratar de descubrir.',\n",
    "#])\n",
    "test_sentences = tf.constant(inputs[:20])  #targets[20:]\n",
    "\n",
    "result = reloaded.tf_translate(test_sentences)\n",
    "\n",
    "for orig, tr in zip(test_sentences, result['text']):\n",
    "    print(orig.numpy().decode())\n",
    "    print(tr.numpy().decode())\n",
    "    print(\"------------\")\n",
    "\n",
    "print()"
   ]
  },
  {
   "cell_type": "code",
   "execution_count": null,
   "metadata": {},
   "outputs": [],
   "source": []
  }
 ],
 "metadata": {
  "accelerator": "GPU",
  "colab": {
   "collapsed_sections": [],
   "include_colab_link": true,
   "name": "nmt_with_attention.ipynb",
   "provenance": [],
   "toc_visible": true
  },
  "kernelspec": {
   "display_name": "Python 3",
   "language": "python",
   "name": "python3"
  },
  "language_info": {
   "codemirror_mode": {
    "name": "ipython",
    "version": 3
   },
   "file_extension": ".py",
   "mimetype": "text/x-python",
   "name": "python",
   "nbconvert_exporter": "python",
   "pygments_lexer": "ipython3",
   "version": "3.8.10"
  }
 },
 "nbformat": 4,
 "nbformat_minor": 1
}
