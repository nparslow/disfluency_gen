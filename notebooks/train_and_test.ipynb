{
 "cells": [
  {
   "cell_type": "markdown",
   "metadata": {
    "colab_type": "text",
    "id": "view-in-github"
   },
   "source": [
    "<a href=\"https://colab.research.google.com/github/nparslow/disfluency_gen/blob/develop/docs/tutorials/nmt_with_attention.ipynb\" target=\"_parent\"><img src=\"https://colab.research.google.com/assets/colab-badge.svg\" alt=\"Open In Colab\"/></a>"
   ]
  },
  {
   "cell_type": "code",
   "execution_count": 15,
   "metadata": {
    "id": "tnxXKDjq3jEL",
    "scrolled": false
   },
   "outputs": [
    {
     "name": "stdout",
     "output_type": "stream",
     "text": [
      "Checking the GPU is accessible:\n",
      "[PhysicalDevice(name='/physical_device:GPU:0', device_type='GPU')]\n"
     ]
    }
   ],
   "source": [
    "\n",
    "# refactored and adapted from:\n",
    "#https://colab.research.google.com/github/tensorflow/text/blob/master/docs/tutorials/nmt_with_attention.ipynb\n",
    "\n",
    "import os\n",
    "import sys\n",
    "repoRoot = os.path.abspath(os.path.join(os.getcwd(), '..'))\n",
    "\n",
    "# for local running without installing the package:\n",
    "sys.path.append(os.path.join(repoRoot, \"src\"))\n",
    "\n",
    "import tensorflow as tf\n",
    "from disfluency_generator.data_preparation import load_data, create_dataset, print_examples, \\\n",
    "     tf_lower_and_split_punct, create_text_processor\n",
    "from disfluency_generator.encoder import Encoder\n",
    "from disfluency_generator.decoder import Decoder\n",
    "from disfluency_generator.trainTranslator import TrainTranslator, BatchLogs\n",
    "from disfluency_generator.maskedLoss import MaskedLoss\n",
    "from disfluency_generator.translator import Translator\n",
    "from disfluency_generator.trainTranslator import TrainTranslator\n",
    "\n",
    "import pathlib\n",
    "\n",
    "from disfluency_generator.letsread_prepare_translations import LetsReadDataPrep\n",
    "from disfluency_generator.portuguese_phoneme_to_grapheme import PhonemeToGrapheme\n",
    "\n",
    "print(\"Checking the GPU is accessible:\")\n",
    "print(tf.config.list_physical_devices('GPU'))\n"
   ]
  },
  {
   "cell_type": "code",
   "execution_count": 16,
   "metadata": {
    "colab": {
     "base_uri": "https://localhost:8080/"
    },
    "id": "kRVATYOgJs1b",
    "outputId": "0d4f0d79-6557-4c52-cb30-19c63d031a35",
    "scrolled": true
   },
   "outputs": [
    {
     "name": "stdout",
     "output_type": "stream",
     "text": [
      "Cannot parse t6j~ at ~\n",
      "Cannot parse lun6w at w\n",
      "Cannot parse fi...ka...@ju at ju\n",
      "Cannot parse kumunica at ca\n",
      "Cannot parse gOc6~w~ at c6~w~\n",
      "Cannot parse tevulz6w~ at w~\n",
      "Cannot parse sÂj~ at Âj~\n",
      "Likely typo: [l\"a:du\n",
      "Likely typo: [i~v@rn\"ar\n",
      "Cannot parse k6ir6w~ at w~\n",
      "Last example of data:\n",
      "flole mocla ambife dantrar mever\n",
      "flole mocla ambife dantrar e mever\n",
      "\n",
      "Printing Examples (before normalisation):\n",
      "Quis seguir viagem, mas estava tão fraco, magro e pálido, que eles não o deixaram partir.\n",
      "quis seguir viagem mas estava tão fraco magro e a pal e pálido que que eles não o deixaram partir\n",
      "--------------------\n",
      "Diz a cabra que estava na vinha, que está pronta para ser a madrinha.\n",
      "diz a cabra que estava ai que estava na vinha que estaa pronta para ser a madrinha\n",
      "--------------------\n",
      "Na noite de Natal, em frente da enorme lareira, havia uma mesa muito comprida.\n",
      "na noite *DEL(de) natal em frente da enorme lareira havia uma mesa muito comprida\n",
      "--------------------\n",
      "Como teria acontecido?\n",
      "como teria acontecido\n",
      "--------------------\n",
      "Era uma vez um gato maltez.\n",
      "era uma vez um gato maltez\n",
      "--------------------\n"
     ]
    }
   ],
   "source": [
    "# load data\n",
    "data_path = pathlib.Path(repoRoot, \"data\")\n",
    "verbose = 1\n",
    "#------------------\n",
    "letsread_corpus_path = os.path.join(data_path, \"LetsReadDB\")\n",
    "\n",
    "p2g = PhonemeToGrapheme(os.path.join(repoRoot, \"resources\", \"sampa.tsv\"))\n",
    "data_prep = LetsReadDataPrep(letsread_corpus_path, p2g)\n",
    "inputs, targets = data_prep.prep_letsread()\n",
    "\n",
    "\n",
    "if verbose > 0:\n",
    "    print(f\"Last example of data:\\n{inputs[-1]}\\n{targets[-1]}\")\n",
    "\n",
    "# we'll leave off the first 20 as a test set (todo improve)\n",
    "dataset = create_dataset(inputs[20:], targets[20:], BATCH_SIZE=64//2)\n",
    "\n",
    "if verbose > 0:\n",
    "    print(\"\")\n",
    "    print(\"Printing Examples (before normalisation):\")\n",
    "    print_examples(dataset, 5)\n"
   ]
  },
  {
   "cell_type": "code",
   "execution_count": 17,
   "metadata": {},
   "outputs": [
    {
     "name": "stdout",
     "output_type": "stream",
     "text": [
      "First 10 words of input vocab:\n",
      "['', '[UNK]', '[START]', '[END]', 'a', 'e', 'o', 'de', 'que', 'um']\n",
      "First 10 words of target vocab:\n",
      "['', '[UNK]', '[START]', '[END]', 'a', 'e', 'o', 'de', 'que', 'um']\n",
      "Example input token sequences (indices):\n",
      "tf.Tensor(\n",
      "[[   2  645 1731    7    9  239    3    0    0    0]\n",
      " [   2   30  169  351 2542    3    0    0    0    0]\n",
      " [   2    6  776   15  613    5   41   22  707    5]], shape=(3, 10), dtype=int64)\n"
     ]
    }
   ],
   "source": [
    "\n",
    "# todo - check with corpus:\n",
    "max_vocab_size = 2917\n",
    "\n",
    "input_text_processor = create_text_processor(inputs, max_vocab_size)\n",
    "\n",
    "if verbose > 0:\n",
    "    # todo better checking:\n",
    "    print(\"First 10 words of input vocab:\")\n",
    "    print(input_text_processor.get_vocabulary()[:10])\n",
    "\n",
    "# note - we don't have to have the same output vocab size:\n",
    "output_text_processor = create_text_processor(targets, max_vocab_size)\n",
    "\n",
    "if verbose > 0:\n",
    "    print(\"First 10 words of target vocab:\")\n",
    "    print(output_text_processor.get_vocabulary()[:10])\n",
    "\n",
    "if verbose > 0:\n",
    "    for example_input_batch, example_target_batch in dataset.take(1):\n",
    "        print(\"Example input token sequences (indices):\")\n",
    "        example_tokens = input_text_processor(example_input_batch)\n",
    "        print(example_tokens[:3, :10])\n"
   ]
  },
  {
   "cell_type": "markdown",
   "metadata": {
    "id": "gzQWx2saImMV"
   },
   "source": [
    "Before getting into it define a few constants for the model:"
   ]
  },
  {
   "cell_type": "code",
   "execution_count": 28,
   "metadata": {
    "id": "_a9uNz3-IrF-"
   },
   "outputs": [],
   "source": [
    "# The original model was built on more data, we shrink things down for the letsread corpus \n",
    "embedding_dim = 256//2\n",
    "units = 1024//2"
   ]
  },
  {
   "cell_type": "markdown",
   "metadata": {
    "id": "hpObfY22IddU"
   },
   "source": [
    "### Train the model\n"
   ]
  },
  {
   "cell_type": "code",
   "execution_count": 29,
   "metadata": {
    "id": "J7m4mtnj80sq"
   },
   "outputs": [],
   "source": [
    "\n",
    "batch_loss = BatchLogs('batch_loss')"
   ]
  },
  {
   "cell_type": "code",
   "execution_count": 30,
   "metadata": {},
   "outputs": [],
   "source": [
    "\n",
    "train_translator = TrainTranslator(\n",
    "    embedding_dim, units,\n",
    "    input_text_processor=input_text_processor,\n",
    "    output_text_processor=output_text_processor)\n",
    "\n",
    "# Configure the loss and optimizer\n",
    "train_translator.compile(\n",
    "    optimizer=tf.optimizers.Adam(learning_rate=0.002),  # default learning_rate = 0.001\n",
    "    loss=MaskedLoss(),\n",
    ")\n"
   ]
  },
  {
   "cell_type": "code",
   "execution_count": 31,
   "metadata": {},
   "outputs": [],
   "source": [
    "# learning rate high at first:\n",
    "def scheduler(epoch, lr):\n",
    "  if epoch < 30:\n",
    "    return lr\n",
    "  else:\n",
    "    return lr * tf.math.exp(-0.1)\n",
    "learning_rate_scheduler = tf.keras.callbacks.LearningRateScheduler(scheduler)"
   ]
  },
  {
   "cell_type": "code",
   "execution_count": 32,
   "metadata": {
    "colab": {
     "base_uri": "https://localhost:8080/"
    },
    "id": "BQd_esVVoSf3",
    "outputId": "2536bbf4-078b-4f12-b0ac-c3d59ef81dfc",
    "scrolled": true
   },
   "outputs": [
    {
     "name": "stdout",
     "output_type": "stream",
     "text": [
      "Epoch 1/60\n",
      "71/71 [==============================] - 27s 335ms/step - batch_loss: 5.8382\n",
      "Epoch 2/60\n",
      "71/71 [==============================] - 24s 339ms/step - batch_loss: 4.8634\n",
      "Epoch 3/60\n",
      "71/71 [==============================] - 25s 349ms/step - batch_loss: 3.8484\n",
      "Epoch 4/60\n",
      "71/71 [==============================] - 24s 342ms/step - batch_loss: 2.7246\n",
      "Epoch 5/60\n",
      "71/71 [==============================] - 24s 344ms/step - batch_loss: 1.7631\n",
      "Epoch 6/60\n",
      "71/71 [==============================] - 24s 340ms/step - batch_loss: 1.1669\n",
      "Epoch 7/60\n",
      "71/71 [==============================] - 24s 337ms/step - batch_loss: 0.8739\n",
      "Epoch 8/60\n",
      "71/71 [==============================] - 25s 348ms/step - batch_loss: 0.6955\n",
      "Epoch 9/60\n",
      "71/71 [==============================] - 26s 357ms/step - batch_loss: 0.5994\n",
      "Epoch 10/60\n",
      "71/71 [==============================] - 25s 357ms/step - batch_loss: 0.5187\n",
      "Epoch 11/60\n",
      "71/71 [==============================] - 26s 360ms/step - batch_loss: 0.4589\n",
      "Epoch 12/60\n",
      "71/71 [==============================] - 26s 367ms/step - batch_loss: 0.4396\n",
      "Epoch 13/60\n",
      "71/71 [==============================] - 25s 355ms/step - batch_loss: 0.4067\n",
      "Epoch 14/60\n",
      "71/71 [==============================] - 26s 361ms/step - batch_loss: 0.3790\n",
      "Epoch 15/60\n",
      "71/71 [==============================] - 26s 366ms/step - batch_loss: 0.3581\n",
      "Epoch 16/60\n",
      "71/71 [==============================] - 26s 362ms/step - batch_loss: 0.3454\n",
      "Epoch 17/60\n",
      "71/71 [==============================] - 26s 366ms/step - batch_loss: 0.3364\n",
      "Epoch 18/60\n",
      "71/71 [==============================] - 25s 359ms/step - batch_loss: 0.3238\n",
      "Epoch 19/60\n",
      "71/71 [==============================] - 26s 362ms/step - batch_loss: 0.3163\n",
      "Epoch 20/60\n",
      "71/71 [==============================] - 25s 356ms/step - batch_loss: 0.3175\n",
      "Epoch 21/60\n",
      "71/71 [==============================] - 25s 347ms/step - batch_loss: 0.3101\n",
      "Epoch 22/60\n",
      "71/71 [==============================] - 27s 381ms/step - batch_loss: 0.2989\n",
      "Epoch 23/60\n",
      "71/71 [==============================] - 24s 342ms/step - batch_loss: 0.2777\n",
      "Epoch 24/60\n",
      "71/71 [==============================] - 25s 349ms/step - batch_loss: 0.2685\n",
      "Epoch 25/60\n",
      "71/71 [==============================] - 25s 356ms/step - batch_loss: 0.2552\n",
      "Epoch 26/60\n",
      "71/71 [==============================] - 25s 353ms/step - batch_loss: 0.2557\n",
      "Epoch 27/60\n",
      "71/71 [==============================] - 24s 345ms/step - batch_loss: 0.2404\n",
      "Epoch 28/60\n",
      "71/71 [==============================] - 25s 346ms/step - batch_loss: 0.2325\n",
      "Epoch 29/60\n",
      "71/71 [==============================] - 24s 338ms/step - batch_loss: 0.2420\n",
      "Epoch 30/60\n",
      "71/71 [==============================] - 24s 338ms/step - batch_loss: 0.2495\n",
      "Epoch 31/60\n",
      "71/71 [==============================] - 24s 345ms/step - batch_loss: 0.2533\n",
      "Epoch 32/60\n",
      "71/71 [==============================] - 25s 354ms/step - batch_loss: 0.2190\n",
      "Epoch 33/60\n",
      "71/71 [==============================] - 24s 343ms/step - batch_loss: 0.1999\n",
      "Epoch 34/60\n",
      "71/71 [==============================] - 25s 348ms/step - batch_loss: 0.1688\n",
      "Epoch 35/60\n",
      "71/71 [==============================] - 24s 343ms/step - batch_loss: 0.1472\n",
      "Epoch 36/60\n",
      "71/71 [==============================] - 25s 355ms/step - batch_loss: 0.1319\n",
      "Epoch 37/60\n",
      "71/71 [==============================] - 24s 344ms/step - batch_loss: 0.1214\n",
      "Epoch 38/60\n",
      "71/71 [==============================] - 24s 344ms/step - batch_loss: 0.1146\n",
      "Epoch 39/60\n",
      "71/71 [==============================] - 24s 342ms/step - batch_loss: 0.1073\n",
      "Epoch 40/60\n",
      "71/71 [==============================] - 24s 339ms/step - batch_loss: 0.1008\n",
      "Epoch 41/60\n",
      "71/71 [==============================] - 24s 343ms/step - batch_loss: 0.0978\n",
      "Epoch 42/60\n",
      "71/71 [==============================] - 24s 344ms/step - batch_loss: 0.0932\n",
      "Epoch 43/60\n",
      "71/71 [==============================] - 25s 348ms/step - batch_loss: 0.0890\n",
      "Epoch 44/60\n",
      "71/71 [==============================] - 24s 341ms/step - batch_loss: 0.0854\n",
      "Epoch 45/60\n",
      "71/71 [==============================] - 24s 339ms/step - batch_loss: 0.0827\n",
      "Epoch 46/60\n",
      "71/71 [==============================] - 25s 347ms/step - batch_loss: 0.0807\n",
      "Epoch 47/60\n",
      "71/71 [==============================] - 25s 346ms/step - batch_loss: 0.0799\n",
      "Epoch 48/60\n",
      "71/71 [==============================] - 24s 342ms/step - batch_loss: 0.0785\n",
      "Epoch 49/60\n",
      "71/71 [==============================] - 24s 343ms/step - batch_loss: 0.0760\n",
      "Epoch 50/60\n",
      "71/71 [==============================] - 25s 346ms/step - batch_loss: 0.0739\n",
      "Epoch 51/60\n",
      "71/71 [==============================] - 24s 333ms/step - batch_loss: 0.0736\n",
      "Epoch 52/60\n",
      "71/71 [==============================] - 24s 340ms/step - batch_loss: 0.0713\n",
      "Epoch 53/60\n",
      "71/71 [==============================] - 25s 346ms/step - batch_loss: 0.0706\n",
      "Epoch 54/60\n",
      "71/71 [==============================] - 25s 351ms/step - batch_loss: 0.0699\n",
      "Epoch 55/60\n",
      "71/71 [==============================] - 24s 343ms/step - batch_loss: 0.0688\n",
      "Epoch 56/60\n",
      "71/71 [==============================] - 24s 342ms/step - batch_loss: 0.0685\n",
      "Epoch 57/60\n",
      "71/71 [==============================] - 25s 352ms/step - batch_loss: 0.0675\n",
      "Epoch 58/60\n",
      "71/71 [==============================] - 24s 339ms/step - batch_loss: 0.0671\n",
      "Epoch 59/60\n",
      "71/71 [==============================] - 25s 346ms/step - batch_loss: 0.0661\n",
      "Epoch 60/60\n",
      "71/71 [==============================] - 25s 347ms/step - batch_loss: 0.0662\n"
     ]
    },
    {
     "data": {
      "text/plain": [
       "<tensorflow.python.keras.callbacks.History at 0x7fd358767860>"
      ]
     },
     "execution_count": 32,
     "metadata": {},
     "output_type": "execute_result"
    }
   ],
   "source": [
    "train_translator.fit(dataset, epochs=60,\n",
    "                     callbacks=[batch_loss, learning_rate_scheduler])"
   ]
  },
  {
   "cell_type": "code",
   "execution_count": 33,
   "metadata": {
    "colab": {
     "base_uri": "https://localhost:8080/",
     "height": 300
    },
    "id": "38rLdlmtQHCm",
    "outputId": "efbeff93-c194-42ce-e124-36a36f88c350"
   },
   "outputs": [
    {
     "data": {
      "text/plain": [
       "Text(0, 0.5, 'CE/token')"
      ]
     },
     "execution_count": 33,
     "metadata": {},
     "output_type": "execute_result"
    },
    {
     "data": {
      "image/png": "[encoded data removed]",
      "text/plain": [
       "<Figure size 432x288 with 1 Axes>"
      ]
     },
     "metadata": {
      "needs_background": "light"
     },
     "output_type": "display_data"
    }
   ],
   "source": [
    "import matplotlib.pyplot as plt\n",
    "plt.plot(batch_loss.logs)\n",
    "plt.ylim([0, 10])\n",
    "plt.xlabel('Batch #')\n",
    "plt.ylabel('CE/token')"
   ]
  },
  {
   "cell_type": "code",
   "execution_count": 34,
   "metadata": {
    "id": "iBQzFZ9uWU79"
   },
   "outputs": [],
   "source": [
    "translator = Translator(\n",
    "    encoder=train_translator.encoder,\n",
    "    decoder=train_translator.decoder,\n",
    "    input_text_processor=input_text_processor,\n",
    "    output_text_processor=output_text_processor,\n",
    ")"
   ]
  },
  {
   "cell_type": "code",
   "execution_count": 35,
   "metadata": {
    "colab": {
     "base_uri": "https://localhost:8080/"
    },
    "id": "OyvxT5V0_X5B",
    "outputId": "039a2eea-9600-4df8-f83f-f89cba5f2f3b"
   },
   "outputs": [
    {
     "name": "stderr",
     "output_type": "stream",
     "text": [
      "WARNING:absl:Found untraced functions such as encoder_2_layer_call_fn, encoder_2_layer_call_and_return_conditional_losses, decoder_2_layer_call_fn, decoder_2_layer_call_and_return_conditional_losses, embedding_4_layer_call_fn while saving (showing 5 of 60). These functions will not be directly callable after loading.\n"
     ]
    },
    {
     "name": "stdout",
     "output_type": "stream",
     "text": [
      "WARNING:tensorflow:FOR KERAS USERS: The object that you are saving contains one or more Keras models or layers. If you are loading the SavedModel with `tf.keras.models.load_model`, continue reading (otherwise, you may ignore the following instructions). Please change your code to save with `tf.keras.models.save_model` or `model.save`, and confirm that the file \"keras.metadata\" exists in the export directory. In the future, Keras will only load the SavedModels that have this file. In other words, `tf.saved_model.save` will no longer write SavedModels that can be recovered as Keras models (this will apply in TF 2.5).\n",
      "\n",
      "FOR DEVS: If you are overwriting _tracking_metadata in your class, this property has been used to save metadata in the SavedModel. The metadta field will be deprecated soon, so please move the metadata to a different file.\n"
     ]
    },
    {
     "name": "stderr",
     "output_type": "stream",
     "text": [
      "WARNING:tensorflow:FOR KERAS USERS: The object that you are saving contains one or more Keras models or layers. If you are loading the SavedModel with `tf.keras.models.load_model`, continue reading (otherwise, you may ignore the following instructions). Please change your code to save with `tf.keras.models.save_model` or `model.save`, and confirm that the file \"keras.metadata\" exists in the export directory. In the future, Keras will only load the SavedModels that have this file. In other words, `tf.saved_model.save` will no longer write SavedModels that can be recovered as Keras models (this will apply in TF 2.5).\n",
      "\n",
      "FOR DEVS: If you are overwriting _tracking_metadata in your class, this property has been used to save metadata in the SavedModel. The metadta field will be deprecated soon, so please move the metadata to a different file.\n"
     ]
    },
    {
     "name": "stdout",
     "output_type": "stream",
     "text": [
      "INFO:tensorflow:Assets written to: portugues_trial_6/assets\n"
     ]
    },
    {
     "name": "stderr",
     "output_type": "stream",
     "text": [
      "INFO:tensorflow:Assets written to: portugues_trial_6/assets\n"
     ]
    }
   ],
   "source": [
    "model_name = 'portugues_trial_6'\n",
    "tf.saved_model.save(translator, model_name,\n",
    "                    signatures={'serving_default': translator.tf_translate})"
   ]
  },
  {
   "cell_type": "code",
   "execution_count": 36,
   "metadata": {
    "id": "-I0j3i3ekOba"
   },
   "outputs": [],
   "source": [
    "model_name = 'portugues_trial_6'\n",
    "reloaded = tf.saved_model.load(model_name)\n"
   ]
  },
  {
   "cell_type": "code",
   "execution_count": 37,
   "metadata": {
    "colab": {
     "base_uri": "https://localhost:8080/"
    },
    "id": "GXZF__FZXJCm",
    "outputId": "380eaf26-17ba-4dcd-8261-ed6e5da6e3ff"
   },
   "outputs": [
    {
     "name": "stdout",
     "output_type": "stream",
     "text": [
      "A notícia desta viagem causou grande espanto.\n",
      "a a noticia de desta vi viagem com fazer grande grande espanto\n",
      "------------\n",
      "A Zélia jogou e meteu um belo golo na baliza.\n",
      "a zelia a zelia jogou e meteu um belo golo na baliza\n",
      "------------\n",
      "A mãe do Flávio era florista.\n",
      "a mae do flavio era salada\n",
      "------------\n",
      "Vendia lindos gladíolos e glicínias.\n",
      "vendia lindos ge vendia lindos gladiolus e glicinias\n",
      "------------\n",
      "A Catarina e a Mira estão distraídas.\n",
      "a catarina e a mira estao distraidas\n",
      "------------\n",
      "Quero eu, quero eu! Sou muito comilão, mas também dizem que sou bonacheirão.\n",
      "quero eu quero eu sou muito comilao mas tambem dizem que sou la comilao mas tambem dizem que sou tudo la\n",
      "------------\n",
      "És muito simpático e pareces ser divertido.\n",
      "esta este esta muito e simpatico e pareces ser divertido\n",
      "------------\n",
      "Mas com essa voz, acordavas-me a mim e aos meninos de noite!\n",
      "mas com essa voz acurdavasme a mim e aos um meninos de noite\n",
      "------------\n",
      "Quase enraivecida, a cegonha largou a falar como uma matraca.\n",
      "ca co e um cegonha largou a falar com uma um matraca\n",
      "------------\n",
      "Ficaram a conversar na varanda.\n",
      "ficaram a conversar na varanda\n",
      "------------\n",
      "\n"
     ]
    }
   ],
   "source": [
    "# seems to be much more stable now - I suspect it's overfitting - \n",
    "# prompts are repeated 2-14 times so need to build a better mini test set\n",
    "\n",
    "test_sentences = tf.constant(inputs[10:20])  # not used in training \n",
    "#test_sentences = tf.constant(inputs[20:30])  #targets[20:] is training\n",
    "\n",
    "result = reloaded.tf_translate(test_sentences)\n",
    "\n",
    "for orig, tr in zip(test_sentences, result['text']):\n",
    "    print(orig.numpy().decode())\n",
    "    print(tr.numpy().decode())\n",
    "    print(\"------------\")\n",
    "\n",
    "print()"
   ]
  },
  {
   "cell_type": "code",
   "execution_count": null,
   "metadata": {},
   "outputs": [],
   "source": []
  }
 ],
 "metadata": {
  "accelerator": "GPU",
  "colab": {
   "collapsed_sections": [],
   "include_colab_link": true,
   "name": "nmt_with_attention.ipynb",
   "provenance": [],
   "toc_visible": true
  },
  "kernelspec": {
   "display_name": "Python 3",
   "language": "python",
   "name": "python3"
  },
  "language_info": {
   "codemirror_mode": {
    "name": "ipython",
    "version": 3
   },
   "file_extension": ".py",
   "mimetype": "text/x-python",
   "name": "python",
   "nbconvert_exporter": "python",
   "pygments_lexer": "ipython3",
   "version": "3.6.9"
  }
 },
 "nbformat": 4,
 "nbformat_minor": 1
}
