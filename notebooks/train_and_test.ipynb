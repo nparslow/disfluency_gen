{
 "cells": [
  {
   "cell_type": "markdown",
   "metadata": {
    "colab_type": "text",
    "id": "view-in-github"
   },
   "source": [
    "<a href=\"https://colab.research.google.com/github/nparslow/disfluency_gen/blob/develop/docs/tutorials/nmt_with_attention.ipynb\" target=\"_parent\"><img src=\"https://colab.research.google.com/assets/colab-badge.svg\" alt=\"Open In Colab\"/></a>"
   ]
  },
  {
   "cell_type": "code",
   "execution_count": 1,
   "metadata": {
    "id": "tnxXKDjq3jEL",
    "scrolled": false
   },
   "outputs": [
    {
     "name": "stdout",
     "output_type": "stream",
     "text": [
      "Checking the GPU is accessible:\n",
      "[PhysicalDevice(name='/physical_device:GPU:0', device_type='GPU')]\n"
     ]
    }
   ],
   "source": [
    "\n",
    "# refactored and adapted from:\n",
    "#https://colab.research.google.com/github/tensorflow/text/blob/master/docs/tutorials/nmt_with_attention.ipynb\n",
    "\n",
    "import os\n",
    "import sys\n",
    "repoRoot = os.path.abspath(os.path.join(os.getcwd(), '..'))\n",
    "\n",
    "# for local running without installing the package:\n",
    "sys.path.append(os.path.join(repoRoot, \"src\"))\n",
    "\n",
    "import tensorflow as tf\n",
    "from disfluency_generator.data_preparation import load_data, create_dataset, print_examples, \\\n",
    "     tf_lower_and_split_punct, create_text_processor\n",
    "from disfluency_generator.encoder import Encoder\n",
    "from disfluency_generator.decoder import Decoder\n",
    "from disfluency_generator.trainTranslator import TrainTranslator, BatchLogs\n",
    "from disfluency_generator.maskedLoss import MaskedLoss\n",
    "from disfluency_generator.translator import Translator\n",
    "from disfluency_generator.trainTranslator import TrainTranslator\n",
    "\n",
    "import pathlib\n",
    "\n",
    "from disfluency_generator.letsread_prepare_translations import LetsReadDataPrep\n",
    "from disfluency_generator.portuguese_phoneme_to_grapheme import PhonemeToGrapheme\n",
    "\n",
    "print(\"Checking the GPU is accessible:\")\n",
    "print(tf.config.list_physical_devices('GPU'))\n"
   ]
  },
  {
   "cell_type": "code",
   "execution_count": 2,
   "metadata": {
    "colab": {
     "base_uri": "https://localhost:8080/"
    },
    "id": "kRVATYOgJs1b",
    "outputId": "0d4f0d79-6557-4c52-cb30-19c63d031a35",
    "scrolled": true
   },
   "outputs": [
    {
     "name": "stdout",
     "output_type": "stream",
     "text": [
      "Cannot parse t6j~ at ~\n",
      "Cannot parse lun6w at w\n",
      "Cannot parse fi...ka...@ju at ju\n",
      "Cannot parse kumunica at ca\n",
      "Cannot parse gOc6~w~ at c6~w~\n",
      "Cannot parse tevulz6w~ at w~\n",
      "Cannot parse sÂj~ at Âj~\n",
      "Likely typo: [l\"a:du\n",
      "Likely typo: [i~v@rn\"ar\n",
      "Cannot parse k6ir6w~ at w~\n",
      "Last example of data:\n",
      "flole mocla ambife dantrar mever\n",
      "flole mocla ambife dantrar e mever\n",
      "\n",
      "Printing Examples (before normalisation):\n",
      "Por isso, quando o Homem pôs pela primeira vez os pés no solo lunar, a Lua sentiu-se, ao mesmo tempo, alegre e triste.\n",
      "por isso quando o quando o homem pôs pela primeira vez os pés nuc no col lunar a lua sentiu-se ao mesmo tempo alegre e triste\n",
      "--------------------\n",
      "A Victória adorava guloseimas e um dia encontrou a árvore dos rebuçados.\n",
      "a victória adorava guloseimas e um dia encontrou a arve durs dos rebuçados\n",
      "--------------------\n",
      "Em todos a porta era alta, mas o teto era baixo e Gira Gira tinha de estar de joelhos, porque não podia cortar o pescoço.\n",
      "em todos a porta era alta mas o teto era baixo e gira gira tinha de estar de joelhos porque não podia cortar o pescoço\n",
      "--------------------\n",
      "Apareceram projetos de muitos arquitetos.\n",
      "pare pareceram apareceram objetos ceum de mumimtus arquitetos\n",
      "--------------------\n",
      "A bolacha Maria não queria ser simplesmente Maria e queria ter mais nomes próprios e apelidos.\n",
      "a bolacha maria não queria ser simplesmente maia e queria ter mais nomes próprios e apelidos\n",
      "--------------------\n"
     ]
    },
    {
     "name": "stderr",
     "output_type": "stream",
     "text": [
      "/home/nickp/Documents/tutorials/disfluency_generator/src/disfluency_generator/letsread_prepare_translations.py:103: SettingWithCopyWarning: \n",
      "A value is trying to be set on a copy of a slice from a DataFrame.\n",
      "Try using .loc[row_indexer,col_indexer] = value instead\n",
      "\n",
      "See the caveats in the documentation: https://pandas.pydata.org/pandas-docs/stable/user_guide/indexing.html#returning-a-view-versus-a-copy\n",
      "  lambda x: tf_lower_and_split_punct(x).numpy().decode())\n",
      "/home/nickp/Documents/tutorials/disfluency_generator/src/disfluency_generator/letsread_prepare_translations.py:105: SettingWithCopyWarning: \n",
      "A value is trying to be set on a copy of a slice from a DataFrame.\n",
      "Try using .loc[row_indexer,col_indexer] = value instead\n",
      "\n",
      "See the caveats in the documentation: https://pandas.pydata.org/pandas-docs/stable/user_guide/indexing.html#returning-a-view-versus-a-copy\n",
      "  filtered_df[\"Prompt_Start\"] = filtered_df[\"Prompt_Norm\"].str[8:18]\n"
     ]
    }
   ],
   "source": [
    "# load data\n",
    "data_path = pathlib.Path(repoRoot, \"data\")\n",
    "verbose = 1\n",
    "#------------------\n",
    "letsread_corpus_path = os.path.join(data_path, \"LetsReadDB\")\n",
    "\n",
    "p2g = PhonemeToGrapheme(os.path.join(repoRoot, \"resources\", \"sampa.tsv\"))\n",
    "data_prep = LetsReadDataPrep(letsread_corpus_path, p2g)\n",
    "_, _ = data_prep.prep_letsread()\n",
    "\n",
    "(train_inputs, train_targets), (test_inputs, test_targets) = data_prep.train_test_split()\n",
    "\n",
    "\n",
    "if verbose > 0:\n",
    "    print(f\"Last example of data:\\n{train_inputs[-1]}\\n{train_targets[-1]}\")\n",
    "\n",
    "# we'll leave off the first 20 as a test set (todo improve)\n",
    "# reduce batch size wrt original set up as less data, this does make training a bit more noisy though\n",
    "dataset = create_dataset(train_inputs, train_targets, BATCH_SIZE=64//2)\n",
    "\n",
    "if verbose > 0:\n",
    "    print(\"\")\n",
    "    print(\"Printing Examples (before normalisation):\")\n",
    "    print_examples(dataset, 5)\n"
   ]
  },
  {
   "cell_type": "code",
   "execution_count": 3,
   "metadata": {},
   "outputs": [
    {
     "name": "stdout",
     "output_type": "stream",
     "text": [
      "First 10 words of input vocab:\n",
      "['', '[UNK]', '[START]', '[END]', 'a', 'e', 'o', 'de', 'que', 'um']\n",
      "First 10 words of target vocab:\n",
      "['', '[UNK]', '[START]', '[END]', 'a', 'e', 'o', 'de', 'que', 'um']\n",
      "Example input token sequences (indices):\n",
      "tf.Tensor(\n",
      "[[   2    6 2711 2627   48 2543    8    4  277  296]\n",
      " [   2    9 1543    7  420 1560    3    0    0    0]\n",
      " [   2 1994 1637 2121    5 1433    3    0    0    0]], shape=(3, 10), dtype=int64)\n"
     ]
    }
   ],
   "source": [
    "\n",
    "# todo - check with corpus:\n",
    "max_vocab_size = 2917\n",
    "\n",
    "input_text_processor = create_text_processor(train_inputs, max_vocab_size)\n",
    "\n",
    "if verbose > 0:\n",
    "    # todo better checking:\n",
    "    print(\"First 10 words of input vocab:\")\n",
    "    print(input_text_processor.get_vocabulary()[:10])\n",
    "\n",
    "# note - we don't have to have the same output vocab size:\n",
    "output_text_processor = create_text_processor(train_targets, max_vocab_size)\n",
    "\n",
    "if verbose > 0:\n",
    "    print(\"First 10 words of target vocab:\")\n",
    "    print(output_text_processor.get_vocabulary()[:10])\n",
    "\n",
    "if verbose > 0:\n",
    "    for example_input_batch, example_target_batch in dataset.take(1):\n",
    "        print(\"Example input token sequences (indices):\")\n",
    "        example_tokens = input_text_processor(example_input_batch)\n",
    "        print(example_tokens[:3, :10])\n"
   ]
  },
  {
   "cell_type": "markdown",
   "metadata": {
    "id": "gzQWx2saImMV"
   },
   "source": [
    "Before getting into it define a few constants for the model:"
   ]
  },
  {
   "cell_type": "code",
   "execution_count": 7,
   "metadata": {
    "id": "_a9uNz3-IrF-"
   },
   "outputs": [],
   "source": [
    "# The original model was built on more data, we shrink things down for the letsread corpus \n",
    "embedding_dim = 256//4\n",
    "units = 1024//4"
   ]
  },
  {
   "cell_type": "markdown",
   "metadata": {
    "id": "hpObfY22IddU"
   },
   "source": [
    "### Train the model\n"
   ]
  },
  {
   "cell_type": "code",
   "execution_count": 8,
   "metadata": {
    "id": "J7m4mtnj80sq"
   },
   "outputs": [],
   "source": [
    "\n",
    "batch_loss = BatchLogs('batch_loss')"
   ]
  },
  {
   "cell_type": "code",
   "execution_count": 9,
   "metadata": {},
   "outputs": [],
   "source": [
    "\n",
    "train_translator = TrainTranslator(\n",
    "    embedding_dim, units,\n",
    "    input_text_processor=input_text_processor,\n",
    "    output_text_processor=output_text_processor)\n",
    "\n",
    "# Configure the loss and optimizer\n",
    "train_translator.compile(\n",
    "    optimizer=tf.optimizers.Adam(learning_rate=0.002),  # default learning_rate = 0.001\n",
    "    loss=MaskedLoss(),\n",
    ")\n"
   ]
  },
  {
   "cell_type": "code",
   "execution_count": 10,
   "metadata": {},
   "outputs": [],
   "source": [
    "# learning rate high at first:\n",
    "def scheduler(epoch, lr):\n",
    "  if epoch < 20:\n",
    "    return lr\n",
    "  else:\n",
    "    return lr * tf.math.exp(-0.1)\n",
    "learning_rate_scheduler = tf.keras.callbacks.LearningRateScheduler(scheduler)"
   ]
  },
  {
   "cell_type": "code",
   "execution_count": 11,
   "metadata": {
    "colab": {
     "base_uri": "https://localhost:8080/"
    },
    "id": "BQd_esVVoSf3",
    "outputId": "2536bbf4-078b-4f12-b0ac-c3d59ef81dfc",
    "scrolled": true
   },
   "outputs": [
    {
     "name": "stdout",
     "output_type": "stream",
     "text": [
      "Epoch 1/30\n",
      "71/71 [==============================] - 20s 218ms/step - batch_loss: 6.0405\n",
      "Epoch 2/30\n",
      "71/71 [==============================] - 16s 221ms/step - batch_loss: 5.6382\n",
      "Epoch 3/30\n",
      "71/71 [==============================] - 16s 217ms/step - batch_loss: 5.4185\n",
      "Epoch 4/30\n",
      "71/71 [==============================] - 16s 228ms/step - batch_loss: 5.2203\n",
      "Epoch 5/30\n",
      "71/71 [==============================] - 18s 247ms/step - batch_loss: 5.0421\n",
      "Epoch 6/30\n",
      "71/71 [==============================] - 19s 274ms/step - batch_loss: 4.8400\n",
      "Epoch 7/30\n",
      "71/71 [==============================] - 19s 261ms/step - batch_loss: 4.5956\n",
      "Epoch 8/30\n",
      "71/71 [==============================] - 19s 266ms/step - batch_loss: 4.3836\n",
      "Epoch 9/30\n",
      "71/71 [==============================] - 18s 256ms/step - batch_loss: 4.1884\n",
      "Epoch 10/30\n",
      "71/71 [==============================] - 19s 260ms/step - batch_loss: 3.9924\n",
      "Epoch 11/30\n",
      "71/71 [==============================] - 19s 262ms/step - batch_loss: 3.7699\n",
      "Epoch 12/30\n",
      "71/71 [==============================] - 19s 260ms/step - batch_loss: 3.5374\n",
      "Epoch 13/30\n",
      "71/71 [==============================] - 18s 252ms/step - batch_loss: 3.3252\n",
      "Epoch 14/30\n",
      "71/71 [==============================] - 18s 255ms/step - batch_loss: 3.1187\n",
      "Epoch 15/30\n",
      "71/71 [==============================] - 18s 246ms/step - batch_loss: 2.8815\n",
      "Epoch 16/30\n",
      "71/71 [==============================] - 17s 241ms/step - batch_loss: 2.6859\n",
      "Epoch 17/30\n",
      "71/71 [==============================] - 16s 226ms/step - batch_loss: 2.4985\n",
      "Epoch 18/30\n",
      "71/71 [==============================] - 17s 244ms/step - batch_loss: 2.3143\n",
      "Epoch 19/30\n",
      "71/71 [==============================] - 18s 250ms/step - batch_loss: 2.1275\n",
      "Epoch 20/30\n",
      "71/71 [==============================] - 18s 260ms/step - batch_loss: 1.9579\n",
      "Epoch 21/30\n",
      "71/71 [==============================] - 18s 257ms/step - batch_loss: 1.7838\n",
      "Epoch 22/30\n",
      "71/71 [==============================] - 18s 256ms/step - batch_loss: 1.6131\n",
      "Epoch 23/30\n",
      "71/71 [==============================] - 18s 247ms/step - batch_loss: 1.4839\n",
      "Epoch 24/30\n",
      "71/71 [==============================] - 18s 250ms/step - batch_loss: 1.3936\n",
      "Epoch 25/30\n",
      "71/71 [==============================] - 18s 247ms/step - batch_loss: 1.2654\n",
      "Epoch 26/30\n",
      "71/71 [==============================] - 18s 250ms/step - batch_loss: 1.1800\n",
      "Epoch 27/30\n",
      "71/71 [==============================] - 17s 247ms/step - batch_loss: 1.0894\n",
      "Epoch 28/30\n",
      "71/71 [==============================] - 17s 241ms/step - batch_loss: 1.0421\n",
      "Epoch 29/30\n",
      "71/71 [==============================] - 16s 231ms/step - batch_loss: 0.9873\n",
      "Epoch 30/30\n",
      "71/71 [==============================] - 18s 252ms/step - batch_loss: 0.9422\n"
     ]
    },
    {
     "data": {
      "text/plain": [
       "<tensorflow.python.keras.callbacks.History at 0x7f4fac4bf908>"
      ]
     },
     "execution_count": 11,
     "metadata": {},
     "output_type": "execute_result"
    }
   ],
   "source": [
    "train_translator.fit(dataset, epochs=30,\n",
    "                     callbacks=[batch_loss, learning_rate_scheduler])"
   ]
  },
  {
   "cell_type": "code",
   "execution_count": 12,
   "metadata": {
    "colab": {
     "base_uri": "https://localhost:8080/",
     "height": 300
    },
    "id": "38rLdlmtQHCm",
    "outputId": "efbeff93-c194-42ce-e124-36a36f88c350"
   },
   "outputs": [
    {
     "data": {
      "text/plain": [
       "Text(0, 0.5, 'CE/token')"
      ]
     },
     "execution_count": 12,
     "metadata": {},
     "output_type": "execute_result"
    },
    {
     "data": {
      "image/png": "[encoded data removed]",
      "text/plain": [
       "<Figure size 432x288 with 1 Axes>"
      ]
     },
     "metadata": {
      "needs_background": "light"
     },
     "output_type": "display_data"
    }
   ],
   "source": [
    "import matplotlib.pyplot as plt\n",
    "plt.plot(batch_loss.logs)\n",
    "plt.ylim([0, 10])\n",
    "plt.xlabel('Batch #')\n",
    "plt.ylabel('CE/token')"
   ]
  },
  {
   "cell_type": "code",
   "execution_count": 13,
   "metadata": {
    "id": "iBQzFZ9uWU79"
   },
   "outputs": [],
   "source": [
    "translator = Translator(\n",
    "    encoder=train_translator.encoder,\n",
    "    decoder=train_translator.decoder,\n",
    "    input_text_processor=input_text_processor,\n",
    "    output_text_processor=output_text_processor,\n",
    ")"
   ]
  },
  {
   "cell_type": "code",
   "execution_count": 14,
   "metadata": {
    "colab": {
     "base_uri": "https://localhost:8080/"
    },
    "id": "OyvxT5V0_X5B",
    "outputId": "039a2eea-9600-4df8-f83f-f89cba5f2f3b"
   },
   "outputs": [
    {
     "name": "stderr",
     "output_type": "stream",
     "text": [
      "WARNING:absl:Found untraced functions such as encoder_1_layer_call_fn, encoder_1_layer_call_and_return_conditional_losses, decoder_1_layer_call_fn, decoder_1_layer_call_and_return_conditional_losses, embedding_2_layer_call_fn while saving (showing 5 of 60). These functions will not be directly callable after loading.\n"
     ]
    },
    {
     "name": "stdout",
     "output_type": "stream",
     "text": [
      "WARNING:tensorflow:FOR KERAS USERS: The object that you are saving contains one or more Keras models or layers. If you are loading the SavedModel with `tf.keras.models.load_model`, continue reading (otherwise, you may ignore the following instructions). Please change your code to save with `tf.keras.models.save_model` or `model.save`, and confirm that the file \"keras.metadata\" exists in the export directory. In the future, Keras will only load the SavedModels that have this file. In other words, `tf.saved_model.save` will no longer write SavedModels that can be recovered as Keras models (this will apply in TF 2.5).\n",
      "\n",
      "FOR DEVS: If you are overwriting _tracking_metadata in your class, this property has been used to save metadata in the SavedModel. The metadta field will be deprecated soon, so please move the metadata to a different file.\n"
     ]
    },
    {
     "name": "stderr",
     "output_type": "stream",
     "text": [
      "WARNING:tensorflow:FOR KERAS USERS: The object that you are saving contains one or more Keras models or layers. If you are loading the SavedModel with `tf.keras.models.load_model`, continue reading (otherwise, you may ignore the following instructions). Please change your code to save with `tf.keras.models.save_model` or `model.save`, and confirm that the file \"keras.metadata\" exists in the export directory. In the future, Keras will only load the SavedModels that have this file. In other words, `tf.saved_model.save` will no longer write SavedModels that can be recovered as Keras models (this will apply in TF 2.5).\n",
      "\n",
      "FOR DEVS: If you are overwriting _tracking_metadata in your class, this property has been used to save metadata in the SavedModel. The metadta field will be deprecated soon, so please move the metadata to a different file.\n"
     ]
    },
    {
     "name": "stdout",
     "output_type": "stream",
     "text": [
      "INFO:tensorflow:Assets written to: portugues_trial_8/assets\n"
     ]
    },
    {
     "name": "stderr",
     "output_type": "stream",
     "text": [
      "INFO:tensorflow:Assets written to: portugues_trial_8/assets\n"
     ]
    }
   ],
   "source": [
    "model_name = 'portugues_trial_8'\n",
    "tf.saved_model.save(translator, model_name,\n",
    "                    signatures={'serving_default': translator.tf_translate})"
   ]
  },
  {
   "cell_type": "code",
   "execution_count": 15,
   "metadata": {
    "id": "-I0j3i3ekOba"
   },
   "outputs": [],
   "source": [
    "model_name = 'portugues_trial_8'\n",
    "reloaded = tf.saved_model.load(model_name)\n"
   ]
  },
  {
   "cell_type": "code",
   "execution_count": 16,
   "metadata": {
    "colab": {
     "base_uri": "https://localhost:8080/"
    },
    "id": "GXZF__FZXJCm",
    "outputId": "380eaf26-17ba-4dcd-8261-ed6e5da6e3ff"
   },
   "outputs": [
    {
     "name": "stdout",
     "output_type": "stream",
     "text": [
      "On held out test sentences:\n",
      "O rapazinho adorava o cheiro da maresia.\n",
      "o ratito adorava bebe tudo bicicleta\n",
      "------------\n",
      "O rapazinho adorava o cheiro da maresia.\n",
      "o osso dos acessivel a roda a sua ramajaims\n",
      "------------\n",
      "Em frente da casa do Sérgio mora um violinista famoso.\n",
      "um rato da janela ha uma hera logo o ar havia luis tudo alem\n",
      "------------\n",
      "Em frente da porta da casa havia um grande pinheiro.\n",
      "ele ele e todos os mao irreal visse a ro todos a segunda de sua todos la la para la\n",
      "------------\n",
      "Certo dia, quando estava a varrer a cozinha, encontrou uma moeda de cinco réis.\n",
      "quatro os meses as rastos tanto mas ali no momento todos que esta tinha estrelas ramos para o ar\n",
      "------------\n",
      "O menino encontrou o vento do norte.\n",
      "o joao chegou a historia de andavam por noventa hora antes\n",
      "------------\n",
      "Em frente da casa do Sérgio mora um violinista famoso.\n",
      "pos o fato de leiria os visse se o fe leva a terra de esta mais sair\n",
      "------------\n",
      "Em frente da porta da casa havia um grande pinheiro.\n",
      "iscitada e e todos os dias ia de negro e os equilibristas e os dentes para la o peixes\n",
      "------------\n",
      "Certo dia, quando estava a varrer a cozinha, encontrou uma moeda de cinco réis.\n",
      "passava lanchei com o casa esbelta e aos coloridas pre aos demorar\n",
      "------------\n",
      "O menino encontrou o vento do norte.\n",
      "o mario teve muito tem bom saboroso\n",
      "------------\n",
      "\n",
      "On training sentences:\n",
      "O rapazinho adorava o cheiro da maresia.\n",
      "o chico come espiar o is professor frio\n",
      "------------\n",
      "O rapazinho adorava o cheiro da maresia.\n",
      "o chico come bolachas e eu o ouvia sentadinha uma escada\n",
      "------------\n",
      "Em frente da casa do Sérgio mora um violinista famoso.\n",
      "ele e muito amigo do seu malabaristas historias e ao pe de neve\n",
      "------------\n",
      "Em frente da porta da casa havia um grande pinheiro.\n",
      "na branca iscuma de casa de pai para os partes\n",
      "------------\n",
      "Certo dia, quando estava a varrer a cozinha, encontrou uma moeda de cinco réis.\n",
      "entra sentiu que isso voava em co morrer que me tinha trabalho casar mais um acucar\n",
      "------------\n",
      "O menino encontrou o vento do norte.\n",
      "o joao o di chegou a ovelhinha meio comecava uma escola\n",
      "------------\n",
      "Em frente da casa do Sérgio mora um violinista famoso.\n",
      "um rato um fe e um ferreiro e foi a rirse\n",
      "------------\n",
      "Em frente da porta da casa havia um grande pinheiro.\n",
      "na cidade tao andorinhas radio ha uma galinha todos os vida eter um couve\n",
      "------------\n",
      "Certo dia, quando estava a varrer a cozinha, encontrou uma moeda de cinco réis.\n",
      "pos numa manha a nova nova engoliu um sua ra aos nuvens bichos fazer como um ar\n",
      "------------\n",
      "O menino encontrou o vento do norte.\n",
      "o rapaz foi cedo para o caso vai\n",
      "------------\n",
      "Na primavera delicio o teu olhar com flores coloridas.\n",
      "ele e o roda do mundo coberto de um rio num vida\n",
      "------------\n",
      "O rapazinho sentia-se tão feliz que às vezes punha-se a dançar em cima dos rochedos.\n",
      "a dinamarca fica para ra num arvores daqueles gato dos acrobatas\n",
      "------------\n",
      "Na primavera há muitas flores de várias cores.\n",
      "a bom batiam de ce atrevimento de turvar a agua mais fundo\n",
      "------------\n",
      "Na primavera delicio o teu olhar com flores coloridas.\n",
      "ao pe cansava de e fez a sua familia e a praia\n",
      "------------\n",
      "O rapazinho sentia-se tão feliz que às vezes punha-se a dançar em cima dos rochedos.\n",
      "o cara eu vejo da praia havia uma jarra dos seus acrobatas\n",
      "------------\n",
      "Na primavera há muitas flores de várias cores.\n",
      "a manha estava todos a cidade foi foi a passeio\n",
      "------------\n",
      "O menino estavam a admirar a beleza das penas de um formoso pavão.\n",
      "o gil leu uma madeira a sua muito mesmo tudo por ser melhor telhado e vive como nove mesa\n",
      "------------\n",
      "Certo dia, quando vinha da horta, Joaninha foi apanhada por uma enorme tempestade.\n",
      "chegar por todas a porta acurda furioso para a porta\n",
      "------------\n",
      "O menino estavam a admirar a beleza das penas de um formoso pavão.\n",
      "o joao foi empurrado do le um pe generoso na ler\n",
      "------------\n",
      "Certo dia, quando vinha da horta, Joaninha foi apanhada por uma enorme tempestade.\n",
      "procurou procurou quando disse mas dentro das coloridas aba disse que ta mar se ape netas\n",
      "------------\n",
      "\n"
     ]
    }
   ],
   "source": [
    "# seems to be much more stable now - \n",
    "# definitely way overfitting - need to bring in early stopping or a dev set\n",
    "\n",
    "test_sentences = tf.constant(test_inputs)  # from prompts not used in training \n",
    "result = reloaded.tf_translate(test_sentences[:10])\n",
    "\n",
    "print(\"On held out test sentences:\")\n",
    "for orig, tr in zip(test_sentences, result['text']):\n",
    "    print(orig.numpy().decode())\n",
    "    print(tr.numpy().decode())\n",
    "    print(\"------------\")\n",
    "\n",
    "print()\n",
    "\n",
    "\n",
    "print(\"On training sentences:\")\n",
    "\n",
    "train_sentences = tf.constant(train_inputs[:10])\n",
    "result = reloaded.tf_translate(test_sentences)\n",
    "\n",
    "for orig, tr in zip(test_sentences, result['text']):\n",
    "    print(orig.numpy().decode())\n",
    "    print(tr.numpy().decode())\n",
    "    print(\"------------\")\n",
    "\n",
    "print()"
   ]
  },
  {
   "cell_type": "code",
   "execution_count": null,
   "metadata": {},
   "outputs": [],
   "source": []
  }
 ],
 "metadata": {
  "accelerator": "GPU",
  "colab": {
   "collapsed_sections": [],
   "include_colab_link": true,
   "name": "nmt_with_attention.ipynb",
   "provenance": [],
   "toc_visible": true
  },
  "kernelspec": {
   "display_name": "Python 3",
   "language": "python",
   "name": "python3"
  },
  "language_info": {
   "codemirror_mode": {
    "name": "ipython",
    "version": 3
   },
   "file_extension": ".py",
   "mimetype": "text/x-python",
   "name": "python",
   "nbconvert_exporter": "python",
   "pygments_lexer": "ipython3",
   "version": "3.6.9"
  }
 },
 "nbformat": 4,
 "nbformat_minor": 1
}
